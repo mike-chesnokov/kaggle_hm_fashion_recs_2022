{
 "cells": [
  {
   "cell_type": "markdown",
   "id": "another-oasis",
   "metadata": {},
   "source": [
    "# Prepare baselines"
   ]
  },
  {
   "cell_type": "code",
   "execution_count": 1,
   "id": "equipped-vulnerability",
   "metadata": {
    "ExecuteTime": {
     "end_time": "2022-05-07T08:17:21.992858Z",
     "start_time": "2022-05-07T08:17:21.349472Z"
    }
   },
   "outputs": [
    {
     "name": "stderr",
     "output_type": "stream",
     "text": [
      "2022-05-07 11:17:21,990 - DEBUG - Loaded backend module://matplotlib_inline.backend_inline version unknown.\n"
     ]
    }
   ],
   "source": [
    "import os\n",
    "import sys\n",
    "import gc\n",
    "import logging\n",
    "from datetime import datetime, timedelta\n",
    "from itertools import combinations\n",
    "from collections import Counter\n",
    "\n",
    "from typing import List\n",
    "\n",
    "import pickle\n",
    "import pandas as pd\n",
    "import numpy as np\n",
    "import matplotlib.pyplot as plt\n",
    "import memory_profiler\n",
    "from tqdm import tqdm\n",
    "\n",
    "from metrics import mapk, mapk_drop_empty_actual\n",
    "\n",
    "pd.set_option('display.max_rows', 100)\n",
    "pd.set_option('display.max_columns', 50)\n",
    "plt.style.use('seaborn-poster')\n",
    "\n",
    "\n",
    "logging.basicConfig(level=logging.DEBUG, format='%(asctime)s - %(levelname)s - %(message)s')\n",
    "\n",
    "%matplotlib inline\n",
    "%load_ext memory_profiler\n",
    "\n",
    "gc.enable()"
   ]
  },
  {
   "cell_type": "markdown",
   "id": "tested-sunglasses",
   "metadata": {},
   "source": [
    "## Calculate Gender feature based on all trans"
   ]
  },
  {
   "cell_type": "code",
   "execution_count": 3,
   "id": "scientific-parker",
   "metadata": {
    "ExecuteTime": {
     "end_time": "2022-05-04T19:20:19.119105Z",
     "start_time": "2022-05-04T19:20:18.747010Z"
    }
   },
   "outputs": [
    {
     "name": "stdout",
     "output_type": "stream",
     "text": [
      "CPU times: user 570 ms, sys: 525 ms, total: 1.09 s\n",
      "Wall time: 363 ms\n"
     ]
    },
    {
     "data": {
      "text/html": [
       "<div>\n",
       "<style scoped>\n",
       "    .dataframe tbody tr th:only-of-type {\n",
       "        vertical-align: middle;\n",
       "    }\n",
       "\n",
       "    .dataframe tbody tr th {\n",
       "        vertical-align: top;\n",
       "    }\n",
       "\n",
       "    .dataframe thead th {\n",
       "        text-align: right;\n",
       "    }\n",
       "</style>\n",
       "<table border=\"1\" class=\"dataframe\">\n",
       "  <thead>\n",
       "    <tr style=\"text-align: right;\">\n",
       "      <th></th>\n",
       "      <th>t_dat</th>\n",
       "      <th>customer_id</th>\n",
       "      <th>article_id</th>\n",
       "      <th>price</th>\n",
       "      <th>sales_channel_id</th>\n",
       "      <th>cnt_articles</th>\n",
       "    </tr>\n",
       "  </thead>\n",
       "  <tbody>\n",
       "    <tr>\n",
       "      <th>0</th>\n",
       "      <td>2018-09-20</td>\n",
       "      <td>2</td>\n",
       "      <td>541518023</td>\n",
       "      <td>304915</td>\n",
       "      <td>2</td>\n",
       "      <td>1</td>\n",
       "    </tr>\n",
       "    <tr>\n",
       "      <th>1</th>\n",
       "      <td>2018-09-20</td>\n",
       "      <td>2</td>\n",
       "      <td>663713001</td>\n",
       "      <td>508305</td>\n",
       "      <td>2</td>\n",
       "      <td>1</td>\n",
       "    </tr>\n",
       "    <tr>\n",
       "      <th>2</th>\n",
       "      <td>2018-09-20</td>\n",
       "      <td>7</td>\n",
       "      <td>505221001</td>\n",
       "      <td>203220</td>\n",
       "      <td>2</td>\n",
       "      <td>1</td>\n",
       "    </tr>\n",
       "    <tr>\n",
       "      <th>3</th>\n",
       "      <td>2018-09-20</td>\n",
       "      <td>7</td>\n",
       "      <td>505221004</td>\n",
       "      <td>152372</td>\n",
       "      <td>2</td>\n",
       "      <td>1</td>\n",
       "    </tr>\n",
       "    <tr>\n",
       "      <th>4</th>\n",
       "      <td>2018-09-20</td>\n",
       "      <td>7</td>\n",
       "      <td>685687001</td>\n",
       "      <td>169322</td>\n",
       "      <td>2</td>\n",
       "      <td>1</td>\n",
       "    </tr>\n",
       "  </tbody>\n",
       "</table>\n",
       "</div>"
      ],
      "text/plain": [
       "       t_dat  customer_id  article_id   price  sales_channel_id  cnt_articles\n",
       "0 2018-09-20            2   541518023  304915                 2             1\n",
       "1 2018-09-20            2   663713001  508305                 2             1\n",
       "2 2018-09-20            7   505221001  203220                 2             1\n",
       "3 2018-09-20            7   505221004  152372                 2             1\n",
       "4 2018-09-20            7   685687001  169322                 2             1"
      ]
     },
     "execution_count": 3,
     "metadata": {},
     "output_type": "execute_result"
    }
   ],
   "source": [
    "%%time\n",
    "dir_path = '../input_data/processed_data/'\n",
    "file_name = 'trans_clean_all.feather'\n",
    "\n",
    "trans = pd.read_feather(dir_path + file_name)\n",
    "trans.head()"
   ]
  },
  {
   "cell_type": "code",
   "execution_count": 7,
   "id": "another-duplicate",
   "metadata": {
    "ExecuteTime": {
     "end_time": "2022-05-03T07:45:42.617632Z",
     "start_time": "2022-05-03T07:45:42.469149Z"
    }
   },
   "outputs": [
    {
     "data": {
      "text/plain": [
       "1362281"
      ]
     },
     "execution_count": 7,
     "metadata": {},
     "output_type": "execute_result"
    }
   ],
   "source": [
    "trans['customer_id'].nunique()"
   ]
  },
  {
   "cell_type": "code",
   "execution_count": 24,
   "id": "frozen-tiger",
   "metadata": {
    "ExecuteTime": {
     "end_time": "2022-05-03T08:18:29.349853Z",
     "start_time": "2022-05-03T08:18:29.321439Z"
    }
   },
   "outputs": [
    {
     "data": {
      "text/html": [
       "<div>\n",
       "<style scoped>\n",
       "    .dataframe tbody tr th:only-of-type {\n",
       "        vertical-align: middle;\n",
       "    }\n",
       "\n",
       "    .dataframe tbody tr th {\n",
       "        vertical-align: top;\n",
       "    }\n",
       "\n",
       "    .dataframe thead th {\n",
       "        text-align: right;\n",
       "    }\n",
       "</style>\n",
       "<table border=\"1\" class=\"dataframe\">\n",
       "  <thead>\n",
       "    <tr style=\"text-align: right;\">\n",
       "      <th></th>\n",
       "      <th>customer_id</th>\n",
       "      <th>FN</th>\n",
       "      <th>Active</th>\n",
       "      <th>club_member_status</th>\n",
       "      <th>fashion_news_frequency</th>\n",
       "      <th>age</th>\n",
       "      <th>postal_code</th>\n",
       "    </tr>\n",
       "  </thead>\n",
       "  <tbody>\n",
       "    <tr>\n",
       "      <th>0</th>\n",
       "      <td>0</td>\n",
       "      <td>0</td>\n",
       "      <td>0</td>\n",
       "      <td>1</td>\n",
       "      <td>1</td>\n",
       "      <td>49</td>\n",
       "      <td>0</td>\n",
       "    </tr>\n",
       "    <tr>\n",
       "      <th>1</th>\n",
       "      <td>1</td>\n",
       "      <td>0</td>\n",
       "      <td>0</td>\n",
       "      <td>1</td>\n",
       "      <td>1</td>\n",
       "      <td>25</td>\n",
       "      <td>1</td>\n",
       "    </tr>\n",
       "    <tr>\n",
       "      <th>2</th>\n",
       "      <td>2</td>\n",
       "      <td>0</td>\n",
       "      <td>0</td>\n",
       "      <td>1</td>\n",
       "      <td>1</td>\n",
       "      <td>24</td>\n",
       "      <td>2</td>\n",
       "    </tr>\n",
       "    <tr>\n",
       "      <th>3</th>\n",
       "      <td>3</td>\n",
       "      <td>0</td>\n",
       "      <td>0</td>\n",
       "      <td>1</td>\n",
       "      <td>1</td>\n",
       "      <td>54</td>\n",
       "      <td>3</td>\n",
       "    </tr>\n",
       "    <tr>\n",
       "      <th>4</th>\n",
       "      <td>4</td>\n",
       "      <td>1</td>\n",
       "      <td>1</td>\n",
       "      <td>1</td>\n",
       "      <td>2</td>\n",
       "      <td>52</td>\n",
       "      <td>4</td>\n",
       "    </tr>\n",
       "  </tbody>\n",
       "</table>\n",
       "</div>"
      ],
      "text/plain": [
       "   customer_id  FN  Active  club_member_status  fashion_news_frequency  age  \\\n",
       "0            0   0       0                   1                       1   49   \n",
       "1            1   0       0                   1                       1   25   \n",
       "2            2   0       0                   1                       1   24   \n",
       "3            3   0       0                   1                       1   54   \n",
       "4            4   1       1                   1                       2   52   \n",
       "\n",
       "   postal_code  \n",
       "0            0  \n",
       "1            1  \n",
       "2            2  \n",
       "3            3  \n",
       "4            4  "
      ]
     },
     "execution_count": 24,
     "metadata": {},
     "output_type": "execute_result"
    }
   ],
   "source": [
    "customers_data = pd.read_feather('../input_data/processed_data/customers_clean.feather')\n",
    "#customers_data_feat = [\n",
    "#    'customer_id',\n",
    "#    'FN',\n",
    "#    'Active',\n",
    "#    'age',\n",
    "#    'postal_code'\n",
    "#]\n",
    "#customers_data = customers_data[customers_data_feat]\n",
    "customers_data.head()"
   ]
  },
  {
   "cell_type": "code",
   "execution_count": 4,
   "id": "insured-eugene",
   "metadata": {
    "ExecuteTime": {
     "end_time": "2022-05-03T08:10:06.929273Z",
     "start_time": "2022-05-03T08:10:06.861230Z"
    }
   },
   "outputs": [
    {
     "data": {
      "text/html": [
       "<div>\n",
       "<style scoped>\n",
       "    .dataframe tbody tr th:only-of-type {\n",
       "        vertical-align: middle;\n",
       "    }\n",
       "\n",
       "    .dataframe tbody tr th {\n",
       "        vertical-align: top;\n",
       "    }\n",
       "\n",
       "    .dataframe thead th {\n",
       "        text-align: right;\n",
       "    }\n",
       "</style>\n",
       "<table border=\"1\" class=\"dataframe\">\n",
       "  <thead>\n",
       "    <tr style=\"text-align: right;\">\n",
       "      <th></th>\n",
       "      <th>article_id</th>\n",
       "      <th>product_code</th>\n",
       "      <th>product_type_no</th>\n",
       "      <th>graphical_appearance_no</th>\n",
       "      <th>colour_group_code</th>\n",
       "      <th>perceived_colour_value_id</th>\n",
       "      <th>perceived_colour_master_id</th>\n",
       "      <th>department_no</th>\n",
       "      <th>index_group_no</th>\n",
       "      <th>section_no</th>\n",
       "      <th>garment_group_no</th>\n",
       "    </tr>\n",
       "  </thead>\n",
       "  <tbody>\n",
       "    <tr>\n",
       "      <th>0</th>\n",
       "      <td>108775015</td>\n",
       "      <td>108775</td>\n",
       "      <td>253</td>\n",
       "      <td>1010016</td>\n",
       "      <td>9</td>\n",
       "      <td>4</td>\n",
       "      <td>5</td>\n",
       "      <td>1676</td>\n",
       "      <td>1</td>\n",
       "      <td>16</td>\n",
       "      <td>1002</td>\n",
       "    </tr>\n",
       "    <tr>\n",
       "      <th>1</th>\n",
       "      <td>108775044</td>\n",
       "      <td>108775</td>\n",
       "      <td>253</td>\n",
       "      <td>1010016</td>\n",
       "      <td>10</td>\n",
       "      <td>3</td>\n",
       "      <td>9</td>\n",
       "      <td>1676</td>\n",
       "      <td>1</td>\n",
       "      <td>16</td>\n",
       "      <td>1002</td>\n",
       "    </tr>\n",
       "    <tr>\n",
       "      <th>2</th>\n",
       "      <td>108775051</td>\n",
       "      <td>108775</td>\n",
       "      <td>253</td>\n",
       "      <td>1010017</td>\n",
       "      <td>11</td>\n",
       "      <td>1</td>\n",
       "      <td>9</td>\n",
       "      <td>1676</td>\n",
       "      <td>1</td>\n",
       "      <td>16</td>\n",
       "      <td>1002</td>\n",
       "    </tr>\n",
       "    <tr>\n",
       "      <th>3</th>\n",
       "      <td>110065001</td>\n",
       "      <td>110065</td>\n",
       "      <td>306</td>\n",
       "      <td>1010016</td>\n",
       "      <td>9</td>\n",
       "      <td>4</td>\n",
       "      <td>5</td>\n",
       "      <td>1339</td>\n",
       "      <td>1</td>\n",
       "      <td>61</td>\n",
       "      <td>1017</td>\n",
       "    </tr>\n",
       "    <tr>\n",
       "      <th>4</th>\n",
       "      <td>110065002</td>\n",
       "      <td>110065</td>\n",
       "      <td>306</td>\n",
       "      <td>1010016</td>\n",
       "      <td>10</td>\n",
       "      <td>3</td>\n",
       "      <td>9</td>\n",
       "      <td>1339</td>\n",
       "      <td>1</td>\n",
       "      <td>61</td>\n",
       "      <td>1017</td>\n",
       "    </tr>\n",
       "  </tbody>\n",
       "</table>\n",
       "</div>"
      ],
      "text/plain": [
       "   article_id  product_code  product_type_no  graphical_appearance_no  \\\n",
       "0   108775015        108775              253                  1010016   \n",
       "1   108775044        108775              253                  1010016   \n",
       "2   108775051        108775              253                  1010017   \n",
       "3   110065001        110065              306                  1010016   \n",
       "4   110065002        110065              306                  1010016   \n",
       "\n",
       "   colour_group_code  perceived_colour_value_id  perceived_colour_master_id  \\\n",
       "0                  9                          4                           5   \n",
       "1                 10                          3                           9   \n",
       "2                 11                          1                           9   \n",
       "3                  9                          4                           5   \n",
       "4                 10                          3                           9   \n",
       "\n",
       "   department_no  index_group_no  section_no  garment_group_no  \n",
       "0           1676               1          16              1002  \n",
       "1           1676               1          16              1002  \n",
       "2           1676               1          16              1002  \n",
       "3           1339               1          61              1017  \n",
       "4           1339               1          61              1017  "
      ]
     },
     "execution_count": 4,
     "metadata": {},
     "output_type": "execute_result"
    }
   ],
   "source": [
    "article_cat_features = [\n",
    "    'article_id',\n",
    "    'product_code',\n",
    "    'product_type_no',\n",
    "    'graphical_appearance_no',\n",
    "    'colour_group_code',\n",
    "    'perceived_colour_value_id',\n",
    "    'perceived_colour_master_id',\n",
    "    'department_no',\n",
    "    'index_group_no',\n",
    "    'section_no',\n",
    "    'garment_group_no'\n",
    "]\n",
    "\n",
    "articles_data = pd.read_feather('../input_data/processed_data/articles_clean.feather')\n",
    "# drop text features\n",
    "articles_data = articles_data[article_cat_features]\n",
    "articles_data.head()"
   ]
  },
  {
   "cell_type": "code",
   "execution_count": 11,
   "id": "processed-fifth",
   "metadata": {
    "ExecuteTime": {
     "end_time": "2022-05-03T07:47:21.500226Z",
     "start_time": "2022-05-03T07:47:21.496092Z"
    }
   },
   "outputs": [
    {
     "data": {
      "text/plain": [
       "1     39737\n",
       "4     34711\n",
       "2     15149\n",
       "3     12553\n",
       "26     3392\n",
       "Name: index_group_no, dtype: int64"
      ]
     },
     "execution_count": 11,
     "metadata": {},
     "output_type": "execute_result"
    }
   ],
   "source": [
    "# Baby/Children     4  \n",
    "# Ladieswear        1\n",
    "# Divided           2\n",
    "# Menswear          3\n",
    "# Sport             26\n",
    "articles_data['index_group_no'].value_counts()"
   ]
  },
  {
   "cell_type": "code",
   "execution_count": 5,
   "id": "herbal-major",
   "metadata": {
    "ExecuteTime": {
     "end_time": "2022-05-03T08:10:19.796983Z",
     "start_time": "2022-05-03T08:10:17.469805Z"
    }
   },
   "outputs": [],
   "source": [
    "trans = trans.merge(articles_data[['article_id', 'index_group_no']], how='left', on=['article_id'])"
   ]
  },
  {
   "cell_type": "code",
   "execution_count": 8,
   "id": "balanced-volleyball",
   "metadata": {
    "ExecuteTime": {
     "end_time": "2022-05-03T07:55:57.314588Z",
     "start_time": "2022-05-03T07:55:57.224653Z"
    }
   },
   "outputs": [
    {
     "data": {
      "text/plain": [
       "1     18495735\n",
       "2      6440803\n",
       "3      1608839\n",
       "26     1148763\n",
       "4      1119279\n",
       "Name: index_group_no, dtype: int64"
      ]
     },
     "execution_count": 8,
     "metadata": {},
     "output_type": "execute_result"
    }
   ],
   "source": [
    "trans['index_group_no'].value_counts()"
   ]
  },
  {
   "cell_type": "code",
   "execution_count": 9,
   "id": "integrated-klein",
   "metadata": {
    "ExecuteTime": {
     "end_time": "2022-05-03T07:57:33.370700Z",
     "start_time": "2022-05-03T07:57:32.879844Z"
    }
   },
   "outputs": [
    {
     "data": {
      "text/plain": [
       "(20104574, 7)"
      ]
     },
     "execution_count": 9,
     "metadata": {},
     "output_type": "execute_result"
    }
   ],
   "source": [
    "trans[trans['index_group_no'].isin([1,3])]"
   ]
  },
  {
   "cell_type": "code",
   "execution_count": 6,
   "id": "temporal-violation",
   "metadata": {
    "ExecuteTime": {
     "end_time": "2022-05-03T08:11:26.838978Z",
     "start_time": "2022-05-03T08:11:08.876688Z"
    }
   },
   "outputs": [],
   "source": [
    "customer_index_group = trans[trans['index_group_no'].isin([1,3])]\\\n",
    "    .groupby(['customer_id'], as_index=False)\\\n",
    "    .agg({'index_group_no': list})"
   ]
  },
  {
   "cell_type": "code",
   "execution_count": 16,
   "id": "monthly-disability",
   "metadata": {
    "ExecuteTime": {
     "end_time": "2022-05-03T08:14:40.483327Z",
     "start_time": "2022-05-03T08:14:37.977633Z"
    }
   },
   "outputs": [],
   "source": [
    "from collections import Counter\n",
    "\n",
    "customer_index_group['gender_calc'] = customer_index_group['index_group_no']\\\n",
    "    .apply(lambda x: Counter(x).most_common(1)[0][0])"
   ]
  },
  {
   "cell_type": "code",
   "execution_count": 17,
   "id": "noted-handling",
   "metadata": {
    "ExecuteTime": {
     "end_time": "2022-05-03T08:14:46.730339Z",
     "start_time": "2022-05-03T08:14:46.721715Z"
    }
   },
   "outputs": [
    {
     "data": {
      "text/html": [
       "<div>\n",
       "<style scoped>\n",
       "    .dataframe tbody tr th:only-of-type {\n",
       "        vertical-align: middle;\n",
       "    }\n",
       "\n",
       "    .dataframe tbody tr th {\n",
       "        vertical-align: top;\n",
       "    }\n",
       "\n",
       "    .dataframe thead th {\n",
       "        text-align: right;\n",
       "    }\n",
       "</style>\n",
       "<table border=\"1\" class=\"dataframe\">\n",
       "  <thead>\n",
       "    <tr style=\"text-align: right;\">\n",
       "      <th></th>\n",
       "      <th>customer_id</th>\n",
       "      <th>index_group_no</th>\n",
       "      <th>gender_calc</th>\n",
       "    </tr>\n",
       "  </thead>\n",
       "  <tbody>\n",
       "    <tr>\n",
       "      <th>0</th>\n",
       "      <td>0</td>\n",
       "      <td>[3, 1, 1, 1, 1, 1, 1, 1, 1, 1, 1, 1]</td>\n",
       "      <td>1</td>\n",
       "    </tr>\n",
       "    <tr>\n",
       "      <th>1</th>\n",
       "      <td>1</td>\n",
       "      <td>[1, 1, 1, 1, 1, 1, 1, 1, 1, 1, 1, 1, 1, 1, 1, ...</td>\n",
       "      <td>1</td>\n",
       "    </tr>\n",
       "    <tr>\n",
       "      <th>2</th>\n",
       "      <td>2</td>\n",
       "      <td>[1, 1, 1, 1, 1, 1, 3, 3, 1, 1, 3, 3, 1]</td>\n",
       "      <td>1</td>\n",
       "    </tr>\n",
       "    <tr>\n",
       "      <th>3</th>\n",
       "      <td>4</td>\n",
       "      <td>[1, 1, 1, 1, 1, 1, 1, 1, 1, 1, 1]</td>\n",
       "      <td>1</td>\n",
       "    </tr>\n",
       "    <tr>\n",
       "      <th>4</th>\n",
       "      <td>6</td>\n",
       "      <td>[1, 1]</td>\n",
       "      <td>1</td>\n",
       "    </tr>\n",
       "  </tbody>\n",
       "</table>\n",
       "</div>"
      ],
      "text/plain": [
       "   customer_id                                     index_group_no  gender_calc\n",
       "0            0               [3, 1, 1, 1, 1, 1, 1, 1, 1, 1, 1, 1]            1\n",
       "1            1  [1, 1, 1, 1, 1, 1, 1, 1, 1, 1, 1, 1, 1, 1, 1, ...            1\n",
       "2            2            [1, 1, 1, 1, 1, 1, 3, 3, 1, 1, 3, 3, 1]            1\n",
       "3            4                  [1, 1, 1, 1, 1, 1, 1, 1, 1, 1, 1]            1\n",
       "4            6                                             [1, 1]            1"
      ]
     },
     "execution_count": 17,
     "metadata": {},
     "output_type": "execute_result"
    }
   ],
   "source": [
    "customer_index_group.head()"
   ]
  },
  {
   "cell_type": "code",
   "execution_count": 18,
   "id": "boxed-difference",
   "metadata": {
    "ExecuteTime": {
     "end_time": "2022-05-03T08:15:01.545204Z",
     "start_time": "2022-05-03T08:15:01.536905Z"
    }
   },
   "outputs": [
    {
     "data": {
      "text/plain": [
       "1    1166337\n",
       "3      70269\n",
       "Name: gender_calc, dtype: int64"
      ]
     },
     "execution_count": 18,
     "metadata": {},
     "output_type": "execute_result"
    }
   ],
   "source": [
    "customer_index_group['gender_calc'].value_counts()"
   ]
  },
  {
   "cell_type": "code",
   "execution_count": 25,
   "id": "vanilla-operation",
   "metadata": {
    "ExecuteTime": {
     "end_time": "2022-05-03T08:18:34.490844Z",
     "start_time": "2022-05-03T08:18:34.284394Z"
    }
   },
   "outputs": [],
   "source": [
    "customers_data = customers_data.merge(customer_index_group[['customer_id', 'gender_calc']], \n",
    "                                      how='left', on='customer_id')\n",
    "customers_data['gender_calc'] = customers_data['gender_calc'].fillna(0).astype('int8')"
   ]
  },
  {
   "cell_type": "code",
   "execution_count": 26,
   "id": "unable-damages",
   "metadata": {
    "ExecuteTime": {
     "end_time": "2022-05-03T08:18:38.309414Z",
     "start_time": "2022-05-03T08:18:38.299529Z"
    }
   },
   "outputs": [
    {
     "data": {
      "text/plain": [
       "1    1166337\n",
       "0     135374\n",
       "3      70269\n",
       "Name: gender_calc, dtype: int64"
      ]
     },
     "execution_count": 26,
     "metadata": {},
     "output_type": "execute_result"
    }
   ],
   "source": [
    "customers_data['gender_calc'].value_counts()"
   ]
  },
  {
   "cell_type": "code",
   "execution_count": 27,
   "id": "municipal-workshop",
   "metadata": {
    "ExecuteTime": {
     "end_time": "2022-05-03T08:19:16.585261Z",
     "start_time": "2022-05-03T08:19:16.575062Z"
    }
   },
   "outputs": [
    {
     "data": {
      "text/html": [
       "<div>\n",
       "<style scoped>\n",
       "    .dataframe tbody tr th:only-of-type {\n",
       "        vertical-align: middle;\n",
       "    }\n",
       "\n",
       "    .dataframe tbody tr th {\n",
       "        vertical-align: top;\n",
       "    }\n",
       "\n",
       "    .dataframe thead th {\n",
       "        text-align: right;\n",
       "    }\n",
       "</style>\n",
       "<table border=\"1\" class=\"dataframe\">\n",
       "  <thead>\n",
       "    <tr style=\"text-align: right;\">\n",
       "      <th></th>\n",
       "      <th>customer_id</th>\n",
       "      <th>FN</th>\n",
       "      <th>Active</th>\n",
       "      <th>club_member_status</th>\n",
       "      <th>fashion_news_frequency</th>\n",
       "      <th>age</th>\n",
       "      <th>postal_code</th>\n",
       "      <th>gender_calc</th>\n",
       "    </tr>\n",
       "  </thead>\n",
       "  <tbody>\n",
       "    <tr>\n",
       "      <th>0</th>\n",
       "      <td>0</td>\n",
       "      <td>0</td>\n",
       "      <td>0</td>\n",
       "      <td>1</td>\n",
       "      <td>1</td>\n",
       "      <td>49</td>\n",
       "      <td>0</td>\n",
       "      <td>1</td>\n",
       "    </tr>\n",
       "    <tr>\n",
       "      <th>1</th>\n",
       "      <td>1</td>\n",
       "      <td>0</td>\n",
       "      <td>0</td>\n",
       "      <td>1</td>\n",
       "      <td>1</td>\n",
       "      <td>25</td>\n",
       "      <td>1</td>\n",
       "      <td>1</td>\n",
       "    </tr>\n",
       "    <tr>\n",
       "      <th>2</th>\n",
       "      <td>2</td>\n",
       "      <td>0</td>\n",
       "      <td>0</td>\n",
       "      <td>1</td>\n",
       "      <td>1</td>\n",
       "      <td>24</td>\n",
       "      <td>2</td>\n",
       "      <td>1</td>\n",
       "    </tr>\n",
       "    <tr>\n",
       "      <th>3</th>\n",
       "      <td>3</td>\n",
       "      <td>0</td>\n",
       "      <td>0</td>\n",
       "      <td>1</td>\n",
       "      <td>1</td>\n",
       "      <td>54</td>\n",
       "      <td>3</td>\n",
       "      <td>0</td>\n",
       "    </tr>\n",
       "    <tr>\n",
       "      <th>4</th>\n",
       "      <td>4</td>\n",
       "      <td>1</td>\n",
       "      <td>1</td>\n",
       "      <td>1</td>\n",
       "      <td>2</td>\n",
       "      <td>52</td>\n",
       "      <td>4</td>\n",
       "      <td>1</td>\n",
       "    </tr>\n",
       "  </tbody>\n",
       "</table>\n",
       "</div>"
      ],
      "text/plain": [
       "   customer_id  FN  Active  club_member_status  fashion_news_frequency  age  \\\n",
       "0            0   0       0                   1                       1   49   \n",
       "1            1   0       0                   1                       1   25   \n",
       "2            2   0       0                   1                       1   24   \n",
       "3            3   0       0                   1                       1   54   \n",
       "4            4   1       1                   1                       2   52   \n",
       "\n",
       "   postal_code  gender_calc  \n",
       "0            0            1  \n",
       "1            1            1  \n",
       "2            2            1  \n",
       "3            3            0  \n",
       "4            4            1  "
      ]
     },
     "execution_count": 27,
     "metadata": {},
     "output_type": "execute_result"
    }
   ],
   "source": [
    "customers_data.head()"
   ]
  },
  {
   "cell_type": "code",
   "execution_count": 28,
   "id": "cordless-provider",
   "metadata": {
    "ExecuteTime": {
     "end_time": "2022-05-03T08:19:28.634817Z",
     "start_time": "2022-05-03T08:19:28.600329Z"
    }
   },
   "outputs": [],
   "source": [
    "# save gender to file\n",
    "customers_data.to_feather('../input_data/processed_data/customers_clean2.feather')"
   ]
  },
  {
   "cell_type": "markdown",
   "id": "blind-authority",
   "metadata": {},
   "source": [
    "## Validation strategy: compute metrics several folds\n",
    "**Test and Validation peridos**\n",
    "\n",
    "- `test` 2020-09-16 - 2020-09-22\n",
    "- `test` 2020-09-09 - 2020-09-15\n",
    "- `test` 2020-09-02 - 2020-09-08\n",
    "\n",
    "- `test` 2019-09-24 - 2019-09-30 (or 23 - 29 or 22 - 28)\n",
    "\n",
    "### utils"
   ]
  },
  {
   "cell_type": "code",
   "execution_count": 2,
   "id": "internal-founder",
   "metadata": {
    "ExecuteTime": {
     "end_time": "2022-05-07T08:17:33.611856Z",
     "start_time": "2022-05-07T08:17:33.608959Z"
    }
   },
   "outputs": [],
   "source": [
    "from utils_validation import (\n",
    "    concat_items,\n",
    "    get_dates,\n",
    "    get_sub_df,\n",
    "    get_sub_df_personal_cold,\n",
    "    get_test_target\n",
    ")"
   ]
  },
  {
   "cell_type": "markdown",
   "id": "musical-seafood",
   "metadata": {},
   "source": [
    "### Frequent pairs utils"
   ]
  },
  {
   "cell_type": "code",
   "execution_count": 3,
   "id": "listed-alloy",
   "metadata": {
    "ExecuteTime": {
     "end_time": "2022-05-07T08:17:35.252953Z",
     "start_time": "2022-05-07T08:17:35.250852Z"
    }
   },
   "outputs": [],
   "source": [
    "from utils_frequent_pairs import (\n",
    "    get_frequent_pairs,\n",
    "    collect_freq_items,\n",
    "    concat_pred_freq_items\n",
    ")"
   ]
  },
  {
   "cell_type": "markdown",
   "id": "manual-representation",
   "metadata": {},
   "source": [
    "### popular in categories"
   ]
  },
  {
   "cell_type": "code",
   "execution_count": 7,
   "id": "bright-slovenia",
   "metadata": {
    "ExecuteTime": {
     "end_time": "2022-05-06T19:34:30.997164Z",
     "start_time": "2022-05-06T19:34:30.994564Z"
    }
   },
   "outputs": [],
   "source": [
    "from utils_category_top_items import (\n",
    "    get_category_top_items_time_decay,\n",
    "    concat_pred_cat_items,\n",
    "    category_top_items_predict\n",
    ")"
   ]
  },
  {
   "cell_type": "markdown",
   "id": "particular-sewing",
   "metadata": {},
   "source": [
    "### predicts"
   ]
  },
  {
   "cell_type": "code",
   "execution_count": 4,
   "id": "turkish-member",
   "metadata": {
    "ExecuteTime": {
     "end_time": "2022-05-07T08:17:36.813660Z",
     "start_time": "2022-05-07T08:17:36.805697Z"
    }
   },
   "outputs": [],
   "source": [
    "from utils_heuristics import (\n",
    "    popular_predict,\n",
    "    popular_predict2,\n",
    "    popular_time_decay_predict,\n",
    "    personal_popular_predict,\n",
    "    personal_recent_predict,\n",
    "    personal_time_decay_predict,\n",
    "    personal_trending_time_decay_predict,\n",
    "    personal_history_time_decay_predict,\n",
    "    gender_age_personal_cold_start_predict\n",
    ")"
   ]
  },
  {
   "cell_type": "markdown",
   "id": "heavy-criticism",
   "metadata": {},
   "source": [
    "### full script"
   ]
  },
  {
   "cell_type": "code",
   "execution_count": 5,
   "id": "hairy-ordinary",
   "metadata": {
    "ExecuteTime": {
     "end_time": "2022-05-07T08:17:38.261889Z",
     "start_time": "2022-05-07T08:17:37.973981Z"
    }
   },
   "outputs": [
    {
     "name": "stdout",
     "output_type": "stream",
     "text": [
      "CPU times: user 556 ms, sys: 511 ms, total: 1.07 s\n",
      "Wall time: 280 ms\n"
     ]
    },
    {
     "data": {
      "text/html": [
       "<div>\n",
       "<style scoped>\n",
       "    .dataframe tbody tr th:only-of-type {\n",
       "        vertical-align: middle;\n",
       "    }\n",
       "\n",
       "    .dataframe tbody tr th {\n",
       "        vertical-align: top;\n",
       "    }\n",
       "\n",
       "    .dataframe thead th {\n",
       "        text-align: right;\n",
       "    }\n",
       "</style>\n",
       "<table border=\"1\" class=\"dataframe\">\n",
       "  <thead>\n",
       "    <tr style=\"text-align: right;\">\n",
       "      <th></th>\n",
       "      <th>t_dat</th>\n",
       "      <th>customer_id</th>\n",
       "      <th>article_id</th>\n",
       "      <th>price</th>\n",
       "      <th>sales_channel_id</th>\n",
       "      <th>cnt_articles</th>\n",
       "    </tr>\n",
       "  </thead>\n",
       "  <tbody>\n",
       "    <tr>\n",
       "      <th>0</th>\n",
       "      <td>2018-09-20</td>\n",
       "      <td>2</td>\n",
       "      <td>541518023</td>\n",
       "      <td>304915</td>\n",
       "      <td>2</td>\n",
       "      <td>1</td>\n",
       "    </tr>\n",
       "    <tr>\n",
       "      <th>1</th>\n",
       "      <td>2018-09-20</td>\n",
       "      <td>2</td>\n",
       "      <td>663713001</td>\n",
       "      <td>508305</td>\n",
       "      <td>2</td>\n",
       "      <td>1</td>\n",
       "    </tr>\n",
       "    <tr>\n",
       "      <th>2</th>\n",
       "      <td>2018-09-20</td>\n",
       "      <td>7</td>\n",
       "      <td>505221001</td>\n",
       "      <td>203220</td>\n",
       "      <td>2</td>\n",
       "      <td>1</td>\n",
       "    </tr>\n",
       "    <tr>\n",
       "      <th>3</th>\n",
       "      <td>2018-09-20</td>\n",
       "      <td>7</td>\n",
       "      <td>505221004</td>\n",
       "      <td>152372</td>\n",
       "      <td>2</td>\n",
       "      <td>1</td>\n",
       "    </tr>\n",
       "    <tr>\n",
       "      <th>4</th>\n",
       "      <td>2018-09-20</td>\n",
       "      <td>7</td>\n",
       "      <td>685687001</td>\n",
       "      <td>169322</td>\n",
       "      <td>2</td>\n",
       "      <td>1</td>\n",
       "    </tr>\n",
       "  </tbody>\n",
       "</table>\n",
       "</div>"
      ],
      "text/plain": [
       "       t_dat  customer_id  article_id   price  sales_channel_id  cnt_articles\n",
       "0 2018-09-20            2   541518023  304915                 2             1\n",
       "1 2018-09-20            2   663713001  508305                 2             1\n",
       "2 2018-09-20            7   505221001  203220                 2             1\n",
       "3 2018-09-20            7   505221004  152372                 2             1\n",
       "4 2018-09-20            7   685687001  169322                 2             1"
      ]
     },
     "execution_count": 5,
     "metadata": {},
     "output_type": "execute_result"
    }
   ],
   "source": [
    "%%time\n",
    "dir_path = '../input_data/processed_data/'\n",
    "file_name = 'trans_clean_all.feather'\n",
    "\n",
    "trans = pd.read_feather(dir_path + file_name)\n",
    "trans.head()"
   ]
  },
  {
   "cell_type": "code",
   "execution_count": 6,
   "id": "experienced-reader",
   "metadata": {
    "ExecuteTime": {
     "end_time": "2022-05-07T08:17:39.233976Z",
     "start_time": "2022-05-07T08:17:39.165553Z"
    }
   },
   "outputs": [
    {
     "data": {
      "text/html": [
       "<div>\n",
       "<style scoped>\n",
       "    .dataframe tbody tr th:only-of-type {\n",
       "        vertical-align: middle;\n",
       "    }\n",
       "\n",
       "    .dataframe tbody tr th {\n",
       "        vertical-align: top;\n",
       "    }\n",
       "\n",
       "    .dataframe thead th {\n",
       "        text-align: right;\n",
       "    }\n",
       "</style>\n",
       "<table border=\"1\" class=\"dataframe\">\n",
       "  <thead>\n",
       "    <tr style=\"text-align: right;\">\n",
       "      <th></th>\n",
       "      <th>article_id</th>\n",
       "      <th>product_code</th>\n",
       "      <th>product_type_no</th>\n",
       "      <th>graphical_appearance_no</th>\n",
       "      <th>colour_group_code</th>\n",
       "      <th>perceived_colour_value_id</th>\n",
       "      <th>perceived_colour_master_id</th>\n",
       "      <th>department_no</th>\n",
       "      <th>index_group_no</th>\n",
       "      <th>section_no</th>\n",
       "      <th>garment_group_no</th>\n",
       "    </tr>\n",
       "  </thead>\n",
       "  <tbody>\n",
       "    <tr>\n",
       "      <th>0</th>\n",
       "      <td>108775015</td>\n",
       "      <td>108775</td>\n",
       "      <td>253</td>\n",
       "      <td>1010016</td>\n",
       "      <td>9</td>\n",
       "      <td>4</td>\n",
       "      <td>5</td>\n",
       "      <td>1676</td>\n",
       "      <td>1</td>\n",
       "      <td>16</td>\n",
       "      <td>1002</td>\n",
       "    </tr>\n",
       "    <tr>\n",
       "      <th>1</th>\n",
       "      <td>108775044</td>\n",
       "      <td>108775</td>\n",
       "      <td>253</td>\n",
       "      <td>1010016</td>\n",
       "      <td>10</td>\n",
       "      <td>3</td>\n",
       "      <td>9</td>\n",
       "      <td>1676</td>\n",
       "      <td>1</td>\n",
       "      <td>16</td>\n",
       "      <td>1002</td>\n",
       "    </tr>\n",
       "    <tr>\n",
       "      <th>2</th>\n",
       "      <td>108775051</td>\n",
       "      <td>108775</td>\n",
       "      <td>253</td>\n",
       "      <td>1010017</td>\n",
       "      <td>11</td>\n",
       "      <td>1</td>\n",
       "      <td>9</td>\n",
       "      <td>1676</td>\n",
       "      <td>1</td>\n",
       "      <td>16</td>\n",
       "      <td>1002</td>\n",
       "    </tr>\n",
       "    <tr>\n",
       "      <th>3</th>\n",
       "      <td>110065001</td>\n",
       "      <td>110065</td>\n",
       "      <td>306</td>\n",
       "      <td>1010016</td>\n",
       "      <td>9</td>\n",
       "      <td>4</td>\n",
       "      <td>5</td>\n",
       "      <td>1339</td>\n",
       "      <td>1</td>\n",
       "      <td>61</td>\n",
       "      <td>1017</td>\n",
       "    </tr>\n",
       "    <tr>\n",
       "      <th>4</th>\n",
       "      <td>110065002</td>\n",
       "      <td>110065</td>\n",
       "      <td>306</td>\n",
       "      <td>1010016</td>\n",
       "      <td>10</td>\n",
       "      <td>3</td>\n",
       "      <td>9</td>\n",
       "      <td>1339</td>\n",
       "      <td>1</td>\n",
       "      <td>61</td>\n",
       "      <td>1017</td>\n",
       "    </tr>\n",
       "  </tbody>\n",
       "</table>\n",
       "</div>"
      ],
      "text/plain": [
       "   article_id  product_code  product_type_no  graphical_appearance_no  \\\n",
       "0   108775015        108775              253                  1010016   \n",
       "1   108775044        108775              253                  1010016   \n",
       "2   108775051        108775              253                  1010017   \n",
       "3   110065001        110065              306                  1010016   \n",
       "4   110065002        110065              306                  1010016   \n",
       "\n",
       "   colour_group_code  perceived_colour_value_id  perceived_colour_master_id  \\\n",
       "0                  9                          4                           5   \n",
       "1                 10                          3                           9   \n",
       "2                 11                          1                           9   \n",
       "3                  9                          4                           5   \n",
       "4                 10                          3                           9   \n",
       "\n",
       "   department_no  index_group_no  section_no  garment_group_no  \n",
       "0           1676               1          16              1002  \n",
       "1           1676               1          16              1002  \n",
       "2           1676               1          16              1002  \n",
       "3           1339               1          61              1017  \n",
       "4           1339               1          61              1017  "
      ]
     },
     "execution_count": 6,
     "metadata": {},
     "output_type": "execute_result"
    }
   ],
   "source": [
    "article_cat_features = [\n",
    "    'article_id',\n",
    "    'product_code',\n",
    "    'product_type_no',\n",
    "    'graphical_appearance_no',\n",
    "    'colour_group_code',\n",
    "    'perceived_colour_value_id',\n",
    "    'perceived_colour_master_id',\n",
    "    'department_no',\n",
    "    'index_group_no',\n",
    "    'section_no',\n",
    "    'garment_group_no'\n",
    "]\n",
    "\n",
    "articles_data = pd.read_feather('../input_data/processed_data/articles_clean.feather')\n",
    "# drop text features\n",
    "articles_data = articles_data[article_cat_features]\n",
    "articles_data.head()"
   ]
  },
  {
   "cell_type": "code",
   "execution_count": 7,
   "id": "other-branch",
   "metadata": {
    "ExecuteTime": {
     "end_time": "2022-05-07T08:17:41.226973Z",
     "start_time": "2022-05-07T08:17:40.827233Z"
    }
   },
   "outputs": [
    {
     "data": {
      "text/html": [
       "<div>\n",
       "<style scoped>\n",
       "    .dataframe tbody tr th:only-of-type {\n",
       "        vertical-align: middle;\n",
       "    }\n",
       "\n",
       "    .dataframe tbody tr th {\n",
       "        vertical-align: top;\n",
       "    }\n",
       "\n",
       "    .dataframe thead th {\n",
       "        text-align: right;\n",
       "    }\n",
       "</style>\n",
       "<table border=\"1\" class=\"dataframe\">\n",
       "  <thead>\n",
       "    <tr style=\"text-align: right;\">\n",
       "      <th></th>\n",
       "      <th>customer_id</th>\n",
       "      <th>FN</th>\n",
       "      <th>Active</th>\n",
       "      <th>club_member_status</th>\n",
       "      <th>fashion_news_frequency</th>\n",
       "      <th>age</th>\n",
       "      <th>postal_code</th>\n",
       "      <th>gender_calc</th>\n",
       "      <th>age_bin</th>\n",
       "    </tr>\n",
       "  </thead>\n",
       "  <tbody>\n",
       "    <tr>\n",
       "      <th>0</th>\n",
       "      <td>0</td>\n",
       "      <td>0</td>\n",
       "      <td>0</td>\n",
       "      <td>1</td>\n",
       "      <td>1</td>\n",
       "      <td>49</td>\n",
       "      <td>0</td>\n",
       "      <td>1</td>\n",
       "      <td>45</td>\n",
       "    </tr>\n",
       "    <tr>\n",
       "      <th>1</th>\n",
       "      <td>1</td>\n",
       "      <td>0</td>\n",
       "      <td>0</td>\n",
       "      <td>1</td>\n",
       "      <td>1</td>\n",
       "      <td>25</td>\n",
       "      <td>1</td>\n",
       "      <td>1</td>\n",
       "      <td>25</td>\n",
       "    </tr>\n",
       "    <tr>\n",
       "      <th>2</th>\n",
       "      <td>2</td>\n",
       "      <td>0</td>\n",
       "      <td>0</td>\n",
       "      <td>1</td>\n",
       "      <td>1</td>\n",
       "      <td>24</td>\n",
       "      <td>2</td>\n",
       "      <td>1</td>\n",
       "      <td>18</td>\n",
       "    </tr>\n",
       "    <tr>\n",
       "      <th>3</th>\n",
       "      <td>3</td>\n",
       "      <td>0</td>\n",
       "      <td>0</td>\n",
       "      <td>1</td>\n",
       "      <td>1</td>\n",
       "      <td>54</td>\n",
       "      <td>3</td>\n",
       "      <td>0</td>\n",
       "      <td>45</td>\n",
       "    </tr>\n",
       "    <tr>\n",
       "      <th>4</th>\n",
       "      <td>4</td>\n",
       "      <td>1</td>\n",
       "      <td>1</td>\n",
       "      <td>1</td>\n",
       "      <td>2</td>\n",
       "      <td>52</td>\n",
       "      <td>4</td>\n",
       "      <td>1</td>\n",
       "      <td>45</td>\n",
       "    </tr>\n",
       "  </tbody>\n",
       "</table>\n",
       "</div>"
      ],
      "text/plain": [
       "   customer_id  FN  Active  club_member_status  fashion_news_frequency  age  \\\n",
       "0            0   0       0                   1                       1   49   \n",
       "1            1   0       0                   1                       1   25   \n",
       "2            2   0       0                   1                       1   24   \n",
       "3            3   0       0                   1                       1   54   \n",
       "4            4   1       1                   1                       2   52   \n",
       "\n",
       "   postal_code  gender_calc  age_bin  \n",
       "0            0            1       45  \n",
       "1            1            1       25  \n",
       "2            2            1       18  \n",
       "3            3            0       45  \n",
       "4            4            1       45  "
      ]
     },
     "execution_count": 7,
     "metadata": {},
     "output_type": "execute_result"
    }
   ],
   "source": [
    "customers_data = pd.read_feather('../input_data/processed_data/customers_clean2.feather')\n",
    "#customers_data_feat = [\n",
    "#    'customer_id',\n",
    "#    'FN',\n",
    "#    'Active',\n",
    "#    'age',\n",
    "#    'postal_code'\n",
    "#]\n",
    "#customers_data = customers_data[customers_data_feat]\n",
    "def age_bin_util(x):\n",
    "    if x < 25:\n",
    "        return 18\n",
    "    if 25 <= x < 35:\n",
    "        return 25\n",
    "    if 35 <= x < 45:\n",
    "        return 35\n",
    "    if 45 <= x < 55:\n",
    "        return 45\n",
    "    if x >= 55:\n",
    "        return 55\n",
    "\n",
    "customers_data['age_bin'] = customers_data['age'].apply(lambda x: age_bin_util(x))\n",
    "customers_data.head()"
   ]
  },
  {
   "cell_type": "code",
   "execution_count": 8,
   "id": "qualified-glass",
   "metadata": {
    "ExecuteTime": {
     "end_time": "2022-05-07T08:17:43.935811Z",
     "start_time": "2022-05-07T08:17:43.933103Z"
    }
   },
   "outputs": [],
   "source": [
    "SUB_PATH = '../input_data/processed_data/sub_user_ind.feather'\n",
    "#ARTICLE_DATA_PATH = '../input_data/processed_data/articles_clean.feather'\n",
    "CUTOFF = 12"
   ]
  },
  {
   "cell_type": "code",
   "execution_count": 10,
   "id": "exterior-legend",
   "metadata": {
    "ExecuteTime": {
     "end_time": "2022-05-07T08:25:57.441003Z",
     "start_time": "2022-05-07T08:22:22.948766Z"
    },
    "scrolled": true
   },
   "outputs": [
    {
     "name": "stderr",
     "output_type": "stream",
     "text": [
      "2022-05-07 11:22:23,507 - INFO - FOLD 1 STARTED\n",
      "2022-05-07 11:22:23,509 - INFO - test_start_date = 2020-08-26\n",
      "2022-05-07 11:22:23,509 - INFO - test_end_date = 2020-09-01\n",
      "2022-05-07 11:22:23,510 - INFO - train_start_date = 2020-07-26\n",
      "2022-05-07 11:22:23,510 - INFO - train_end_date = 2020-08-25\n",
      "2022-05-07 11:22:24,785 - INFO - len(target) = 80253\n",
      "2022-05-07 11:22:31,826 - INFO - len(popular_articles) = 12\n",
      "2022-05-07 11:22:43,312 - INFO - preds.shape = (252749, 2)\n",
      "100%|█████████████████████████████| 1963796/1963796 [00:02<00:00, 747898.58it/s]\n",
      "100%|██████████████████████████████████| 29363/29363 [00:00<00:00, 63982.93it/s]\n",
      "2022-05-07 11:22:52,139 - INFO - len(freq_pairs) = 29363\n",
      "2022-05-07 11:23:18,944 - INFO - sub_df.shape = (1371980, 4)\n",
      "2022-05-07 11:23:19,126 - INFO - mapk_drop_empty_actual = 0.023309331980796426\n",
      "2022-05-07 11:23:19,126 - INFO - FOLD 1 DONE\n",
      "2022-05-07 11:23:19,126 - INFO - FOLD 2 STARTED\n",
      "2022-05-07 11:23:19,127 - INFO - test_start_date = 2020-09-02\n",
      "2022-05-07 11:23:19,127 - INFO - test_end_date = 2020-09-08\n",
      "2022-05-07 11:23:19,127 - INFO - train_start_date = 2020-08-02\n",
      "2022-05-07 11:23:19,127 - INFO - train_end_date = 2020-09-01\n",
      "2022-05-07 11:23:20,240 - INFO - len(target) = 75822\n",
      "2022-05-07 11:23:26,136 - INFO - len(popular_articles) = 12\n",
      "2022-05-07 11:23:36,572 - INFO - preds.shape = (254366, 2)\n",
      "100%|█████████████████████████████| 1885864/1885864 [00:02<00:00, 685409.63it/s]\n",
      "100%|██████████████████████████████████| 29191/29191 [00:00<00:00, 65412.33it/s]\n",
      "2022-05-07 11:23:45,577 - INFO - len(freq_pairs) = 29191\n",
      "2022-05-07 11:24:11,709 - INFO - sub_df.shape = (1371980, 4)\n",
      "2022-05-07 11:24:11,888 - INFO - mapk_drop_empty_actual = 0.027317962683339143\n",
      "2022-05-07 11:24:11,889 - INFO - FOLD 2 DONE\n",
      "2022-05-07 11:24:11,889 - INFO - FOLD 3 STARTED\n",
      "2022-05-07 11:24:11,889 - INFO - test_start_date = 2020-09-09\n",
      "2022-05-07 11:24:11,889 - INFO - test_end_date = 2020-09-15\n",
      "2022-05-07 11:24:11,890 - INFO - train_start_date = 2020-08-09\n",
      "2022-05-07 11:24:11,890 - INFO - train_end_date = 2020-09-08\n",
      "2022-05-07 11:24:12,901 - INFO - len(target) = 72019\n",
      "2022-05-07 11:24:19,541 - INFO - len(popular_articles) = 12\n",
      "2022-05-07 11:24:29,382 - INFO - preds.shape = (250098, 2)\n",
      "100%|█████████████████████████████| 1755332/1755332 [00:02<00:00, 676680.80it/s]\n",
      "100%|██████████████████████████████████| 29067/29067 [00:00<00:00, 60087.13it/s]\n",
      "2022-05-07 11:24:38,491 - INFO - len(freq_pairs) = 29067\n",
      "2022-05-07 11:25:05,516 - INFO - sub_df.shape = (1371980, 4)\n",
      "2022-05-07 11:25:05,696 - INFO - mapk_drop_empty_actual = 0.028836744224752516\n",
      "2022-05-07 11:25:05,696 - INFO - FOLD 3 DONE\n",
      "2022-05-07 11:25:05,696 - INFO - FOLD 4 STARTED\n",
      "2022-05-07 11:25:05,697 - INFO - test_start_date = 2020-09-16\n",
      "2022-05-07 11:25:05,697 - INFO - test_end_date = 2020-09-22\n",
      "2022-05-07 11:25:05,697 - INFO - train_start_date = 2020-08-16\n",
      "2022-05-07 11:25:05,697 - INFO - train_end_date = 2020-09-15\n",
      "2022-05-07 11:25:06,700 - INFO - len(target) = 68984\n",
      "2022-05-07 11:25:12,849 - INFO - len(popular_articles) = 12\n",
      "2022-05-07 11:25:22,409 - INFO - preds.shape = (249511, 2)\n",
      "100%|█████████████████████████████| 1659198/1659198 [00:02<00:00, 716750.14it/s]\n",
      "100%|██████████████████████████████████| 28769/28769 [00:00<00:00, 67621.63it/s]\n",
      "2022-05-07 11:25:31,351 - INFO - len(freq_pairs) = 28769\n",
      "2022-05-07 11:25:57,211 - INFO - sub_df.shape = (1371980, 4)\n",
      "2022-05-07 11:25:57,390 - INFO - mapk_drop_empty_actual = 0.030044537826288534\n",
      "2022-05-07 11:25:57,391 - INFO - FOLD 4 DONE\n",
      "2022-05-07 11:25:57,391 - INFO - MAP@K drop empty actuals AVG = 0.027377144178794156\n"
     ]
    },
    {
     "name": "stdout",
     "output_type": "stream",
     "text": [
      "peak memory: 2470.99 MiB, increment: 252.54 MiB\n",
      "CPU times: user 3min 33s, sys: 771 ms, total: 3min 34s\n",
      "Wall time: 3min 34s\n"
     ]
    }
   ],
   "source": [
    "%%time\n",
    "%%memit\n",
    "NUM_FOLDS = 4\n",
    "NUM_DAYS_TRAIN = 30 # 734 days in trans\n",
    "NUM_DAYS_TEST = 7\n",
    "TEST_START_DAY = '2020-08-26'\n",
    "# 2019 year\n",
    "#TEST_START_DAY = '2019-09-02'\n",
    "#ARTICLE_CATEGORY = 'index_group_no'\n",
    "\n",
    "PERSONAL_GROUPBY = 'price_weight'\n",
    "#PERSONAL_GROUPBY = 'item_weight'\n",
    "\n",
    "\n",
    "test_start_date = datetime.strptime(TEST_START_DAY, '%Y-%m-%d')\n",
    "# get init dates\n",
    "test_start_date, test_end_date, \\\n",
    "    train_end_date, train_start_date = get_dates(\n",
    "    test_start_date,\n",
    "    NUM_DAYS_TEST,\n",
    "    NUM_DAYS_TRAIN\n",
    ")\n",
    "#mapk_arr = []\n",
    "mapk_dea_arr = []\n",
    "\n",
    "for fold_num in range(NUM_FOLDS):\n",
    "    logging.info('FOLD %s STARTED', fold_num + 1)\n",
    "    logging.info('test_start_date = %s', test_start_date.date())\n",
    "    logging.info('test_end_date = %s', test_end_date.date())\n",
    "    logging.info('train_start_date = %s', train_start_date.date())\n",
    "    logging.info('train_end_date = %s', train_end_date.date())    \n",
    "    \n",
    "    # get target dict\n",
    "    target = get_test_target(trans, test_start_date, test_end_date)\n",
    "    logging.info('len(target) = %s', len(target))\n",
    "    \n",
    "    # get popular preidictions - cnt unq users\n",
    "    #popular_articles = popular_predict(trans, train_start_date, train_end_date, CUTOFF)\n",
    "    #logging.info('len(popular_articles) = %s', len(popular_articles))\n",
    "    \n",
    "    # get popular preidictions - cnt items\n",
    "    #preds = popular_predict2(trans, train_start_date, train_end_date, CUTOFF)\n",
    "    #logging.info('len(preds) = %s', len(preds))    \n",
    "    \n",
    "    # get popular preidictions - time weighted items\n",
    "    popular_articles = popular_time_decay_predict(trans, \n",
    "                                                  train_start_date, \n",
    "                                                  train_end_date, \n",
    "                                                  CUTOFF,\n",
    "                                                  PERSONAL_GROUPBY)\n",
    "    logging.info('len(popular_articles) = %s', len(popular_articles))\n",
    "    \n",
    "    # get personal popular items\n",
    "    #preds = personal_popular_predict(trans, train_start_date, train_end_date, CUTOFF)\n",
    "    #logging.info('preds.shape = %s', preds.shape)\n",
    "    \n",
    "    # get personal recent items\n",
    "    #preds = personal_recent_predict(trans, train_start_date, train_end_date, CUTOFF)\n",
    "    #logging.info('preds.shape = %s', preds.shape)\n",
    "\n",
    "    # get personal time weighted items\n",
    "    preds = personal_time_decay_predict(trans, \n",
    "                                        train_start_date, \n",
    "                                        train_end_date, \n",
    "                                        CUTOFF,\n",
    "                                        PERSONAL_GROUPBY)\n",
    "    logging.info('preds.shape = %s', preds.shape)\n",
    "    \n",
    "    # get personal time weighted items from all history\n",
    "    #preds = personal_history_time_decay_predict(trans, train_start_date, train_end_date, CUTOFF)\n",
    "    #logging.info('preds.shape = %s', preds.shape)\n",
    "    \n",
    "    # get personal TRENDING time weighted items\n",
    "    #preds = personal_trending_time_decay_predict(trans, train_start_date, train_end_date, CUTOFF)\n",
    "    #logging.info('preds.shape = %s', preds.shape)    \n",
    "\n",
    "    # get frequent pairs of items\n",
    "    freq_pairs = get_frequent_pairs(trans, train_start_date, train_end_date, CUTOFF)\n",
    "    logging.info('len(freq_pairs) = %s', len(freq_pairs))\n",
    "    \n",
    "    # add frequent pairs to personal items\n",
    "    preds['pred'] = preds['pred'].apply(lambda x: concat_pred_freq_items(x, freq_pairs, CUTOFF))\n",
    "    \n",
    "    # collect frequent pairs for personal items (AND NOT JOIN THEM)\n",
    "    #preds['pred'] = preds['pred'].apply(lambda x: collect_freq_items(x, freq_pairs, CUTOFF))    \n",
    "    \n",
    "    # get popular items in categories\n",
    "    #category_top_items, article_category = get_category_top_items_time_decay(\n",
    "    #    trans, train_start_date, train_end_date,\n",
    "    #    ARTICLE_DATA_PATH, ARTICLE_CATEGORY, CUTOFF\n",
    "    #)\n",
    "    # add popular items in categories to personal items\n",
    "    #preds['pred'] = preds['pred'].apply(lambda x: concat_pred_cat_items(x, \n",
    "    #                                                                    article_category, \n",
    "    #                                                                    category_top_items,\n",
    "    #                                                                    CUTOFF))\n",
    "    # collect popular items in categories for personal items (AND NOT JOIN THEM)\n",
    "    #preds['pred'] = preds['pred'].apply(lambda x: category_top_items_predict(x, \n",
    "    #                                                                    article_category, \n",
    "    #                                                                    category_top_items,\n",
    "    #                                                                    CUTOFF)) \n",
    "    \n",
    "    # popular in gender \n",
    "    #preds_personal_cold = gender_personal_cold_start_predict(\n",
    "    #    trans,\n",
    "    #    train_start_date, \n",
    "    #    train_end_date,\n",
    "    #    customers_data,\n",
    "    #    articles_data,\n",
    "    #    CUTOFF\n",
    "    #)\n",
    "    preds_personal_cold = gender_age_personal_cold_start_predict(\n",
    "    #preds_personal_cold = customer_personal_cold_start_predict(\n",
    "        trans,\n",
    "        train_start_date, \n",
    "        train_end_date,\n",
    "        customers_data,\n",
    "        articles_data,\n",
    "        popular_articles,\n",
    "        CUTOFF\n",
    "    )\n",
    "    #logging.info('preds_personal_cold.shape = %s', preds_personal_cold.shape)\n",
    "      \n",
    "    # get submission df\n",
    "    #sub_df = get_sub_df_popular(SUB_PATH, target, preds)\n",
    "    #sub_df = get_sub_df(SUB_PATH, target, preds, popular_articles, CUTOFF)\n",
    "    sub_df = get_sub_df_personal_cold(SUB_PATH, target, preds, preds_personal_cold, CUTOFF)\n",
    "    logging.info('sub_df.shape = %s', sub_df.shape)\n",
    "    \n",
    "    # compute metrics\n",
    "    #metric1 = mapk(sub_df['target'].tolist(), \n",
    "    #               sub_df['pred'].tolist(),\n",
    "    #               k=CUTOFF)\n",
    "    metric2 = mapk_drop_empty_actual(\n",
    "                     sub_df['target'].tolist(), \n",
    "                     sub_df['pred'].tolist(),\n",
    "                     k=CUTOFF)\n",
    "    #logging.info('mapk = %s', metric1)\n",
    "    logging.info('mapk_drop_empty_actual = %s',metric2)\n",
    "    #mapk_arr.append(metric1)\n",
    "    mapk_dea_arr.append(metric2)\n",
    "    \n",
    "    # get dates of next fold\n",
    "    test_start_date = test_start_date + timedelta(days=NUM_DAYS_TEST)\n",
    "    test_start_date, test_end_date, \\\n",
    "        train_end_date, train_start_date = get_dates(\n",
    "        test_start_date,\n",
    "        NUM_DAYS_TEST,\n",
    "        NUM_DAYS_TRAIN\n",
    "    )\n",
    "    logging.info('FOLD %s DONE', fold_num + 1)\n",
    "    \n",
    "#logging.info('MAP@K AVG = %s', np.mean(mapk_arr))\n",
    "logging.info('MAP@K drop empty actuals AVG = %s', np.mean(mapk_dea_arr))"
   ]
  },
  {
   "cell_type": "markdown",
   "id": "secure-refund",
   "metadata": {},
   "source": [
    "**personal trending time weight + frequent pairs**\n",
    "- NUM_DAYS_TRAIN = 30 groupby=price MAP@K = 0.02396\n",
    "- NUM_DAYS_TRAIN = 30 groupby=item_weight MAP@K = 0.02457\n",
    "- NUM_DAYS_TRAIN = 30 groupby=price_weight MAP@K = 0.02571"
   ]
  },
  {
   "cell_type": "markdown",
   "id": "bound-friday",
   "metadata": {},
   "source": [
    "**personal time weight all history + frequent pairs + Active gender age bin personal cold (2020)**\n",
    "- NUM_DAYS_TRAIN = 30 MAP@K = 0.02356\n",
    "\n",
    "\n",
    "**personal time weight + frequent pairs + Active gender age bin personal cold (2020)**\n",
    "- NUM_DAYS_TRAIN = 30 MAP@K = 0.02617\n",
    "\n",
    "\n",
    "**personal time weight + frequent pairs + FN gender age bin personal cold (2020)**\n",
    "- NUM_DAYS_TRAIN = 30 MAP@K = 0.02612\n",
    "\n",
    "\n",
    "**personal time weight + frequent pairs + gender age bin personal cold (2020)**\n",
    "- NUM_DAYS_TRAIN = 30 MAP@K = 0.02616\n",
    "- NUM_DAYS_TRAIN = 60 MAP@K = 0.02537\n",
    "- NUM_DAYS_TRAIN = 30 groupby=price_weight (personal) MAP@K = 0.02730\n",
    "- NUM_DAYS_TRAIN = 30 groupby=price_weight (pers + pop) MAP@K = 0.02737\n",
    "- NUM_DAYS_TRAIN = 30 groupby=price_weight (pers + pop + gender_age) MAP@K = 0.02671\n",
    "\n",
    "\n",
    "**personal time weight + frequent pairs + gender personal cold (2020)**\n",
    "- NUM_DAYS_TRAIN = 30 MAP@K = 0.02497\n",
    "- NUM_DAYS_TRAIN = 30 FIX freq items for->while MAP@K = 0.02497\n",
    "- NUM_DAYS_TRAIN = 30 divided -> female MAP@K = 0.02493\n",
    "- NUM_DAYS_TRAIN = 30 divided -> male MAP@K = 0.02456\n",
    "- NUM_DAYS_TRAIN = 30 baby -> female MAP@K = 0.02497\n",
    "\n",
    "\n",
    "**personal time weight + gender personal cold (2020)**\n",
    "- NUM_DAYS_TRAIN = 30 MAP@K = 0.02367\n",
    "\n",
    "\n",
    "**personal time weight + common popular time weight (2020)**\n",
    "- NUM_DAYS_TRAIN = 30 MAP@K = 0.02314\n",
    "\n",
    "\n",
    "**gender popular time weight (2020)**\n",
    "- NUM_DAYS_TRAIN = 30 MAP@K = 0.0074"
   ]
  },
  {
   "cell_type": "markdown",
   "id": "concrete-acquisition",
   "metadata": {},
   "source": [
    "\n",
    "**personal trending time weight (2020)**\n",
    "- NUM_DAYS_TRAIN = 30 MAP@K DEA AVG = 0.02229\n",
    "- NUM_DAYS_TRAIN = 60 MAP@K DEA AVG = 0.02209\n",
    "\n",
    "\n",
    "**personal trending time weight (2020) +  frequent pairs**\n",
    "- quot_fill_na = 0 NUM_DAYS_TRAIN = 30 MAP@K DEA AVG = 0.02346\n",
    "- quot_fill_na = 1 NUM_DAYS_TRAIN = 30 MAP@K DEA AVG = 0.02369\n",
    "\n",
    "**personal trending time weight (2019) +  frequent pairs**\n",
    "- quot_fill_na = 1 NUM_DAYS_TRAIN = 30 MAP@K DEA AVG = 0.02202\n",
    "\n",
    "**personal time weight + popular in category (time weight) 2020**\n",
    "- category=index_code,         NUM_DAYS_TRAIN = 30 MAP@K DEA AVG = 0.02289\n",
    "- category=department_no,      NUM_DAYS_TRAIN = 30 MAP@K DEA AVG = 0.02306\n",
    "- category=product_type_no,    NUM_DAYS_TRAIN = 30 MAP@K DEA AVG = 0.02273\n",
    "- category=product_group_name, NUM_DAYS_TRAIN = 30 MAP@K DEA AVG = 0.02277\n",
    "- category=index_group_no,     NUM_DAYS_TRAIN = 30 MAP@K DEA AVG = 0.02299\n",
    "- category=garment_group_no,   NUM_DAYS_TRAIN = 14 MAP@K DEA AVG = 0.02221\n",
    "- category=garment_group_no,   NUM_DAYS_TRAIN = 30 MAP@K DEA AVG = 0.02272\n",
    "\n",
    "\n",
    "**popular in category (time weight) 2020**\n",
    "- category=index_code,         NUM_DAYS_TRAIN = 30 MAP@K DEA AVG = 0.0065\n",
    "- category=department_no,      NUM_DAYS_TRAIN = 30 MAP@K DEA AVG = 0.0070\n",
    "- category=index_group_no,     NUM_DAYS_TRAIN = 30 MAP@K DEA AVG = 0.0068"
   ]
  },
  {
   "cell_type": "markdown",
   "id": "decent-local",
   "metadata": {},
   "source": [
    "**frequent pairs for personal time weight  2020**\n",
    "- NUM_DAYS_TRAIN = 30  MAP@K DEA AVG = 0.01006\n",
    "\n",
    "**personal time weight + frequent pairs 2020**\n",
    "- NUM_DAYS_TRAIN = 180 MAP@K DEA AVG = 0.02283\n",
    "- NUM_DAYS_TRAIN = 60  MAP@K DEA AVG = 0.02387\n",
    "- NUM_DAYS_TRAIN = 30  MAP@K DEA AVG = 0.02422\n",
    "- NUM_DAYS_TRAIN = 14  MAP@K DEA AVG = 0.02368\n",
    "- NUM_DAYS_TRAIN = 7   MAP@K DEA AVG = 0.02146\n",
    "\n",
    "**personal time weight + frequent pairs 2019**\n",
    "- NUM_DAYS_TRAIN = 30  MAP@K DEA AVG = 0.02250"
   ]
  },
  {
   "cell_type": "markdown",
   "id": "superior-stylus",
   "metadata": {},
   "source": [
    "**personal time weight (weeks) 2020**\n",
    "- NUM_DAYS_TRAIN = 60  MAP@K DEA AVG = 0.02241\n",
    "- NUM_DAYS_TRAIN = 30  MAP@K DEA AVG = 0.02244\n",
    "- NUM_DAYS_TRAIN = 14  MAP@K DEA AVG = 0.02198\n",
    "\n",
    "**personal time weight (days) 2020**\n",
    "- NUM_DAYS_TRAIN = 180 MAP@K DEA AVG = 0.02239\n",
    "- NUM_DAYS_TRAIN = 60  MAP@K DEA AVG = 0.02284\n",
    "- NUM_DAYS_TRAIN = 30  MAP@K DEA AVG = 0.02280\n",
    "- NUM_DAYS_TRAIN = 21  MAP@K DEA AVG = 0.02268\n",
    "- NUM_DAYS_TRAIN = 14  MAP@K DEA AVG = 0.02222\n",
    "- NUM_DAYS_TRAIN = 7   MAP@K DEA AVG = 0.02017\n",
    "\n",
    "**personal time weight (days) 2019**\n",
    "- NUM_DAYS_TRAIN = 60  MAP@K DEA AVG = 0.02124\n",
    "- NUM_DAYS_TRAIN = 30  MAP@K DEA AVG = 0.02122\n",
    "- NUM_DAYS_TRAIN = 14  MAP@K DEA AVG = 0.02002"
   ]
  },
  {
   "cell_type": "markdown",
   "id": "acceptable-romance",
   "metadata": {},
   "source": [
    "**personal recent 2019**\n",
    "- NUM_DAYS_TRAIN = 750 MAP@K DEA AVG = 0.02053\n",
    "- NUM_DAYS_TRAIN = 370 MAP@K DEA AVG = 0.02053\n",
    "- NUM_DAYS_TRAIN = 180 MAP@K DEA AVG = 0.02008\n",
    "- NUM_DAYS_TRAIN = 60  MAP@K DEA AVG = 0.02003\n",
    "- NUM_DAYS_TRAIN = 30  MAP@K DEA AVG = 0.02043\n",
    "- NUM_DAYS_TRAIN = 21  MAP@K DEA AVG = 0.02036\n",
    "- NUM_DAYS_TRAIN = 14  MAP@K DEA AVG = 0.01953\n",
    "- NUM_DAYS_TRAIN = 7   MAP@K DEA AVG = 0.01751\n",
    "\n",
    "**personal recent 2020**\n",
    "- NUM_DAYS_TRAIN = 750 MAP@K DEA AVG = 0.02182\n",
    "- NUM_DAYS_TRAIN = 370 MAP@K DEA AVG = 0.02189\n",
    "- NUM_DAYS_TRAIN = 180 MAP@K DEA AVG = 0.02137\n",
    "- NUM_DAYS_TRAIN = 60  MAP@K DEA AVG = 0.02182\n",
    "- NUM_DAYS_TRAIN = 30  MAP@K DEA AVG = 0.02185\n",
    "- NUM_DAYS_TRAIN = 21  MAP@K DEA AVG = 0.02187\n",
    "- NUM_DAYS_TRAIN = 14  MAP@K DEA AVG = 0.02168\n",
    "- NUM_DAYS_TRAIN = 7   MAP@K DEA AVG = 0.02058"
   ]
  },
  {
   "cell_type": "markdown",
   "id": "entertaining-chocolate",
   "metadata": {},
   "source": [
    "**personal popular**\n",
    "- NUM_DAYS_TRAIN = 21 MAP@K DEA AVG = 0.020053\n",
    "- NUM_DAYS_TRAIN = 14 MAP@K DEA AVG = 0.020542\n",
    "- NUM_DAYS_TRAIN = 7  MAP@K DEA AVG = 0.020101"
   ]
  },
  {
   "cell_type": "markdown",
   "id": "impressed-merchant",
   "metadata": {},
   "source": [
    "**common popular**\n",
    "- NUM_DAYS_TRAIN = 15 MAP@K AVG = 0.000350\n",
    "- NUM_DAYS_TRAIN = 30 MAP@K AVG = 0.000283\n",
    "- NUM_DAYS_TRAIN = 60 MAP@K AVG = 0.000229\n",
    "- NUM_DAYS_TRAIN =370 MAP@K AVG = 0.0002026"
   ]
  },
  {
   "cell_type": "markdown",
   "id": "meaningful-washer",
   "metadata": {},
   "source": [
    "## Make submission for public test\n"
   ]
  },
  {
   "cell_type": "markdown",
   "id": "steady-graduation",
   "metadata": {},
   "source": [
    "### script for personal popular, recent, time weighted"
   ]
  },
  {
   "cell_type": "code",
   "execution_count": 9,
   "id": "multiple-transport",
   "metadata": {
    "ExecuteTime": {
     "end_time": "2022-05-06T21:30:47.173773Z",
     "start_time": "2022-05-06T21:30:07.977011Z"
    }
   },
   "outputs": [
    {
     "name": "stderr",
     "output_type": "stream",
     "text": [
      "2022-05-07 00:30:27,355 - INFO - preds_personal_cold.shape = (1371980, 2)\n",
      "2022-05-07 00:30:37,017 - INFO - preds.shape = (250619, 2)\n",
      "100%|█████████████████████████████| 1639181/1639181 [00:02<00:00, 759731.64it/s]\n",
      "100%|██████████████████████████████████| 28341/28341 [00:00<00:00, 76344.31it/s]\n",
      "2022-05-07 00:30:45,634 - INFO - len(freq_pairs) = 28341\n"
     ]
    },
    {
     "name": "stdout",
     "output_type": "stream",
     "text": [
      "CPU times: user 38.8 s, sys: 439 ms, total: 39.2 s\n",
      "Wall time: 39.2 s\n"
     ]
    }
   ],
   "source": [
    "%%time\n",
    "NUM_DAYS_TRAIN = 30\n",
    "NUM_DAYS_TEST = 7\n",
    "CUTOFF = 12\n",
    "PERSONAL_GROUPBY = 'price_weight'\n",
    "\n",
    "\n",
    "test_start_date = datetime.strptime('2020-09-23', '%Y-%m-%d')\n",
    "test_start_date, test_end_date, \\\n",
    "    train_end_date, train_start_date = get_dates(\n",
    "    test_start_date,\n",
    "    NUM_DAYS_TEST,\n",
    "    NUM_DAYS_TRAIN\n",
    ")\n",
    "\n",
    "#popular_articles = popular_predict(trans, train_start_date, train_end_date, CUTOFF)\n",
    "popular_articles = popular_time_decay_predict(trans, \n",
    "                                              train_start_date, \n",
    "                                              train_end_date, \n",
    "                                              CUTOFF,\n",
    "                                              PERSONAL_GROUPBY)\n",
    "#logging.info('len(popular_articles) = %s', len(popular_articles))\n",
    "\n",
    "#preds_personal_cold = gender_personal_cold_start_predict(\n",
    "#        trans, \n",
    "#        train_start_date, \n",
    "#        train_end_date,\n",
    "#        customers_data,\n",
    "#        articles_data,\n",
    "#        CUTOFF\n",
    "#    )\n",
    "preds_personal_cold = gender_age_personal_cold_start_predict(\n",
    "    trans, \n",
    "    train_start_date, \n",
    "    train_end_date,\n",
    "    customers_data,\n",
    "    articles_data,\n",
    "    popular_articles,\n",
    "    CUTOFF\n",
    ")\n",
    "logging.info('preds_personal_cold.shape = %s', preds_personal_cold.shape)\n",
    "\n",
    "#preds = personal_popular_predict(trans, train_start_date, train_end_date, CUTOFF)\n",
    "#preds = personal_recent_predict(trans, train_start_date, train_end_date, CUTOFF)\n",
    "#preds = personal_time_decay_predict(trans, train_start_date, train_end_date, CUTOFF)\n",
    "preds = personal_time_decay_predict(trans, \n",
    "                                    train_start_date, \n",
    "                                    train_end_date, \n",
    "                                    CUTOFF,\n",
    "                                    PERSONAL_GROUPBY)\n",
    "#preds = personal_trending_time_decay_predict(trans, train_start_date, train_end_date, CUTOFF)\n",
    "logging.info('preds.shape = %s', preds.shape)\n",
    "\n",
    "# get frequent pairs of items\n",
    "freq_pairs = get_frequent_pairs(trans, train_start_date, train_end_date, CUTOFF)\n",
    "logging.info('len(freq_pairs) = %s', len(freq_pairs))\n",
    "\n",
    "# add frequent pairs to personal items\n",
    "preds['pred'] = preds['pred'].apply(lambda x: concat_pred_freq_items(x, freq_pairs, CUTOFF))"
   ]
  },
  {
   "cell_type": "code",
   "execution_count": 10,
   "id": "adequate-battlefield",
   "metadata": {
    "ExecuteTime": {
     "end_time": "2022-05-06T21:31:19.573883Z",
     "start_time": "2022-05-06T21:31:04.548598Z"
    }
   },
   "outputs": [
    {
     "name": "stdout",
     "output_type": "stream",
     "text": [
      "CPU times: user 14.8 s, sys: 220 ms, total: 15 s\n",
      "Wall time: 15 s\n"
     ]
    },
    {
     "data": {
      "text/html": [
       "<div>\n",
       "<style scoped>\n",
       "    .dataframe tbody tr th:only-of-type {\n",
       "        vertical-align: middle;\n",
       "    }\n",
       "\n",
       "    .dataframe tbody tr th {\n",
       "        vertical-align: top;\n",
       "    }\n",
       "\n",
       "    .dataframe thead th {\n",
       "        text-align: right;\n",
       "    }\n",
       "</style>\n",
       "<table border=\"1\" class=\"dataframe\">\n",
       "  <thead>\n",
       "    <tr style=\"text-align: right;\">\n",
       "      <th></th>\n",
       "      <th>customer_id</th>\n",
       "      <th>pred</th>\n",
       "      <th>prediction</th>\n",
       "      <th>personal_cold_start</th>\n",
       "    </tr>\n",
       "  </thead>\n",
       "  <tbody>\n",
       "    <tr>\n",
       "      <th>0</th>\n",
       "      <td>00000dbacae5abe5e23885899a1fa44253a17956c6d1c3...</td>\n",
       "      <td>[568601043, 858856005, 779781015, 762846031, 5...</td>\n",
       "      <td>0568601043 0858856005 0779781015 0762846031 05...</td>\n",
       "      <td>[751471001, 751471043, 915529003, 928206001, 8...</td>\n",
       "    </tr>\n",
       "    <tr>\n",
       "      <th>1</th>\n",
       "      <td>0000423b00ade91418cceaf3b26c6af3dd342b51fd051e...</td>\n",
       "      <td>NaN</td>\n",
       "      <td>0909370001 0924243001 0863583001 0915529003 01...</td>\n",
       "      <td>[909370001, 924243001, 863583001, 915529003, 1...</td>\n",
       "    </tr>\n",
       "    <tr>\n",
       "      <th>2</th>\n",
       "      <td>000058a12d5b43e67d225668fa1f8d618c13dc232df0ca...</td>\n",
       "      <td>[794321007, 794321011, 805000001, 805000007, 7...</td>\n",
       "      <td>0794321007 0794321011 0805000001 0805000007 07...</td>\n",
       "      <td>[918522001, 915526001, 751471001, 915529003, 9...</td>\n",
       "    </tr>\n",
       "    <tr>\n",
       "      <th>3</th>\n",
       "      <td>00005ca1c9ed5f5146b52ac8639a40ca9d57aeff4d1bd2...</td>\n",
       "      <td>NaN</td>\n",
       "      <td>0751471001 0924243001 0448509014 0918522001 09...</td>\n",
       "      <td>[751471001, 924243001, 448509014, 918522001, 9...</td>\n",
       "    </tr>\n",
       "    <tr>\n",
       "      <th>4</th>\n",
       "      <td>00006413d8573cd20ed7128e53b7b13819fe5cfc2d801f...</td>\n",
       "      <td>NaN</td>\n",
       "      <td>0751471001 0751471043 0915529003 0928206001 08...</td>\n",
       "      <td>[751471001, 751471043, 915529003, 928206001, 8...</td>\n",
       "    </tr>\n",
       "  </tbody>\n",
       "</table>\n",
       "</div>"
      ],
      "text/plain": [
       "                                         customer_id  \\\n",
       "0  00000dbacae5abe5e23885899a1fa44253a17956c6d1c3...   \n",
       "1  0000423b00ade91418cceaf3b26c6af3dd342b51fd051e...   \n",
       "2  000058a12d5b43e67d225668fa1f8d618c13dc232df0ca...   \n",
       "3  00005ca1c9ed5f5146b52ac8639a40ca9d57aeff4d1bd2...   \n",
       "4  00006413d8573cd20ed7128e53b7b13819fe5cfc2d801f...   \n",
       "\n",
       "                                                pred  \\\n",
       "0  [568601043, 858856005, 779781015, 762846031, 5...   \n",
       "1                                                NaN   \n",
       "2  [794321007, 794321011, 805000001, 805000007, 7...   \n",
       "3                                                NaN   \n",
       "4                                                NaN   \n",
       "\n",
       "                                          prediction  \\\n",
       "0  0568601043 0858856005 0779781015 0762846031 05...   \n",
       "1  0909370001 0924243001 0863583001 0915529003 01...   \n",
       "2  0794321007 0794321011 0805000001 0805000007 07...   \n",
       "3  0751471001 0924243001 0448509014 0918522001 09...   \n",
       "4  0751471001 0751471043 0915529003 0928206001 08...   \n",
       "\n",
       "                                 personal_cold_start  \n",
       "0  [751471001, 751471043, 915529003, 928206001, 8...  \n",
       "1  [909370001, 924243001, 863583001, 915529003, 1...  \n",
       "2  [918522001, 915526001, 751471001, 915529003, 9...  \n",
       "3  [751471001, 924243001, 448509014, 918522001, 9...  \n",
       "4  [751471001, 751471043, 915529003, 928206001, 8...  "
      ]
     },
     "execution_count": 10,
     "metadata": {},
     "output_type": "execute_result"
    }
   ],
   "source": [
    "%%time\n",
    "SUB_PATH = '../input_data/processed_data/sub_user_ind.feather'\n",
    "\n",
    "with open('../input_data/processed_data/ind_user.pcl', 'rb') as f:\n",
    "    ind_user = pickle.load(f)\n",
    "\n",
    "sub = pd.read_feather(SUB_PATH)\n",
    "sub = sub.merge(preds, how='left', on='customer_id')\n",
    "sub['prediction'] = sub['pred'].fillna('').apply(list)\n",
    "\n",
    "# join common cold start\n",
    "#sub['prediction'] = sub['prediction'].apply(lambda x: concat_items(x, popular_articles, CUTOFF))\n",
    "\n",
    "# join personal cold start\n",
    "sub = sub.merge(preds_personal_cold, how='left', on=['customer_id'])\n",
    "\n",
    "sub['prediction'] = sub[['prediction', 'personal_cold_start']]\\\n",
    "                    .apply(lambda x: concat_items(x[0], x[1], CUTOFF), axis=1)\n",
    "\n",
    "\n",
    "sub['customer_id'] = sub['customer_id'].apply(lambda x: ind_user[x])\n",
    "sub['prediction'] = sub['prediction'].apply(lambda x: ' '.join(['0' + str(pred) for pred in x]))\n",
    "\n",
    "sub.head()"
   ]
  },
  {
   "cell_type": "code",
   "execution_count": 11,
   "id": "electrical-rolling",
   "metadata": {
    "ExecuteTime": {
     "end_time": "2022-05-06T21:31:27.062242Z",
     "start_time": "2022-05-06T21:31:22.912401Z"
    }
   },
   "outputs": [],
   "source": [
    "sub[['customer_id', 'prediction']].to_csv('../submissions/sub_40.csv', index=False)"
   ]
  }
 ],
 "metadata": {
  "kernelspec": {
   "display_name": "Python 3 (ipykernel)",
   "language": "python",
   "name": "python3"
  },
  "language_info": {
   "codemirror_mode": {
    "name": "ipython",
    "version": 3
   },
   "file_extension": ".py",
   "mimetype": "text/x-python",
   "name": "python",
   "nbconvert_exporter": "python",
   "pygments_lexer": "ipython3",
   "version": "3.8.10"
  },
  "varInspector": {
   "cols": {
    "lenName": 16,
    "lenType": 16,
    "lenVar": 40
   },
   "kernels_config": {
    "python": {
     "delete_cmd_postfix": "",
     "delete_cmd_prefix": "del ",
     "library": "var_list.py",
     "varRefreshCmd": "print(var_dic_list())"
    },
    "r": {
     "delete_cmd_postfix": ") ",
     "delete_cmd_prefix": "rm(",
     "library": "var_list.r",
     "varRefreshCmd": "cat(var_dic_list()) "
    }
   },
   "position": {
    "height": "197.85px",
    "left": "1289.83px",
    "right": "20px",
    "top": "116px",
    "width": "346.167px"
   },
   "types_to_exclude": [
    "module",
    "function",
    "builtin_function_or_method",
    "instance",
    "_Feature"
   ],
   "window_display": false
  }
 },
 "nbformat": 4,
 "nbformat_minor": 5
}
